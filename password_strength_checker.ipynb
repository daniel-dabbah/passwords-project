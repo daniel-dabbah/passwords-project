{
 "cells": [
  {
   "cell_type": "code",
   "execution_count": 1,
   "id": "409ea167",
   "metadata": {},
   "outputs": [],
   "source": [
    "import string\n",
    "import numpy as np\n",
    "import matplotlib.pyplot as plt\n",
    "import re\n",
    "import plotly.express as px\n",
    "import pandas as pd"
   ]
  },
  {
   "cell_type": "code",
   "execution_count": 2,
   "id": "14ef12cf",
   "metadata": {},
   "outputs": [],
   "source": [
    "\n",
    "# months = [\"01\", \"02\", \"03\", \"04\", \"05\", \"06\", \"07\", \"08\", \"09\", \"10\", \"11\", \"12\"]\n",
    "# num_of_days = [31, 28, 31, 30, 31, 30, 31, 31, 30, 31, 30, 31]\n",
    "# days = [\"01\", \"02\", \"03\", \"04\", \"05\", \"06\", \"07\", \"08\", \"09\", \"10\", \"11\", \"12\", \"13\", \"14\", \"15\", \"16\", \"17\"]\n",
    "# days += [\"18\", \"19\", \"20\", \"21\", \"22\", \"23\", \"24\", \"25\", \"26\", \"27\", \"28\", \"29\", \"30\", \"31\"]\n",
    "\n",
    "# automatic_bad_password = [\"123\", \"1234\", \"12345\", \"123456\", \"1234567\", \"12345678\", \"aA654321\", \"Aa123456\", \"password1\", \"admin\"]\n",
    "# automatic_bad_password += [\"password\", \"10203040\", \"p@55w0rd\", \"123456!\", \"01234567\", \"0123456\", \"012345\"]\n",
    "# automatic_bad_password += [\"0123456789\", \"0987654321\", \"987\", \"54321\", \"4321\", \"321\",\"012345678\", \"0123\", \"012\"]\n",
    "# automatic_bad_password +=[\"123456789\", \"12345678\", \"1234567\", \"123456\", \"12345\", \"1234\", \"123\", \"12\", \"01234\"]\n",
    "\n",
    "# hardcoded_bad_numbers = [\"0123456789\", \"0987654321\", \"987\", \"54321\", \"4321\", \"321\",\"012345678\", \"01234567\", \"0123456\"]\n",
    "# hardcoded_bad_numbers += [\"123456789\", \"12345678\", \"1234567\", \"123456\", \"12345\", \"1234\", \"123\", \"12\", \"012345\"]\n",
    "# hardcoded_bad_numbers += [\"1337\", \"42\", \"420\", \"69\", \"1312\", \"666\", \"007\", \"314\", \"360\", \"316\", \"01234\", \"0123\", \"012\"]\n",
    "# hardcoded_bad_numbers += [\"zero\", \"one\", \"two\", \"three\", \"four\", \"five\", \"six\", \"seven\", \"eight\", \"nine\"]\n",
    "# for year in range(1900, 2026):\n",
    "#     hardcoded_bad_numbers.append(str(year))\n",
    "\n",
    "# hardcoded_common_words = [\"Aa123456\", \"password1\", \"password\", \"10203040\", \"p@55w0rd\", \"123456!\", \"admin\"]\n",
    "# hardcoded_common_words += [\"bitch\", \"sex\", \"love\", \"fuck\", \"jesus\", \"my\", \"you\", \"happy\", \"www\", \"msn\"]\n",
    "# hardcoded_common_words += [\"chocolate\", \"choco\", \"coco\", \"later\", \"strawberries\", \"strawberry\", \"straw\", \"berries\", \"berry\"]\n",
    "# hardcoded_common_words += [\"girl\", \"baby\", \"soccer\", \"super\", \"star\", \"world\", \"for\", \"ever\", \"key\", \"usa\"]\n",
    "# hardcoded_common_words += [\"apple\", \"banana\", \"ronaldo\", \"messi\", \"italy\", \"tomato\", \"russia\", \"israel\", \"india\", \"john\"]\n",
    "# hardcoded_common_words += [\"muhammed\", \"muhamad\", \"mohammad\", \"mohammed\", \"mahammad\", \"maxammed\", \"mehemmed\", \"mohamad\", \"mohamed\", \"mehmet\"]\n",
    "# hardcoded_common_words += [\"hero\", \"magic\", \"fernando\", \"alonso\", \"black\", \"blue\", \"white\", \"red\", \"fcb\", \"barcelona\"]\n",
    "# hardcoded_common_words += [\"bayern\", \"real\", \"hint\", \"lakers\", \"london\", \"milan\", \"manchester\", \"united\", \"hapoel\", \"aviv\", \"michael\", \"daniel\"]\n",
    "# hardcoded_common_words += ['honda', 'devil', 'tiger', '.com', 'sakura', 'pokemon', 'cheeto', 'hubble', 'sodium','gmail']\n",
    "# hardcoded_common_words += ['hotmail', 'verizon', 'yahoo', 'dolphin', 'physics', 'qwerty', 'asdf', 'abc', 'asd', 'zxcvb', 'zxc']\n"
   ]
  },
  {
   "cell_type": "code",
   "execution_count": 3,
   "id": "1cf13cd2",
   "metadata": {},
   "outputs": [],
   "source": [
    "# def generate_date_list():\n",
    "#     date_list = []\n",
    "#     for i in range(12):\n",
    "#         for d in range(num_of_days[i]):\n",
    "#             date_list.append(str(days[d]) + months[i])\n",
    "#     return date_list\n",
    "\n",
    "# def generate_american_date_list():\n",
    "#     date_list = []\n",
    "#     for i in range(12):\n",
    "#         for d in range(num_of_days[i]):\n",
    "#             date_list.append(months[i] + str(days[d]))\n",
    "#     return date_list"
   ]
  },
  {
   "cell_type": "code",
   "execution_count": 4,
   "id": "f8b6e6a7",
   "metadata": {},
   "outputs": [],
   "source": [
    "# dates = generate_date_list()\n",
    "# for date in dates:\n",
    "#     hardcoded_bad_numbers.append(str(date))\n",
    "    \n",
    "# dates = generate_american_date_list()\n",
    "# for date in dates:\n",
    "#     hardcoded_bad_numbers.append(str(date))"
   ]
  },
  {
   "cell_type": "code",
   "execution_count": 5,
   "id": "61c1a701",
   "metadata": {},
   "outputs": [],
   "source": [
    "# # Define the file paths\n",
    "# directory_path = \"password_text_files/\"\n",
    "# days_file = \"password_text_files/days.txt\"\n",
    "# months_file = \"password_text_files/months.txt\"\n",
    "# worst_500_file = directory_path + \"500-worst-passwords.txt\"\n",
    "# most_used_2020 = directory_path + \"most_used_2020.txt\"\n",
    "# most_used_2023 = directory_path + \"most_used_2023.txt\"\n",
    "# best110 = directory_path + \"best110.txt\"\n",
    "# output_file = \"password_text_files/combined.txt\"\n",
    "\n",
    "# # Read lines from both files and combine them\n",
    "# with open(days_file, 'r') as f:\n",
    "#     days_lines = f.readlines()\n",
    "    \n",
    "# total_with_dupicates += len(days_lines)\n",
    "\n",
    "# with open(months_file, 'r') as f:\n",
    "#     months_lines = f.readlines()\n",
    "# total_with_dupicates += len(months_lines)\n",
    "\n",
    "# combined_lines = set()\n",
    "\n",
    "# with open(worst_500_file, 'r') as f:\n",
    "#     worst500 = f.readlines()\n",
    "# for w in worst500:\n",
    "#     combined_lines.add(w)\n",
    "    \n",
    "# with open(most_used_2020, 'r') as f:\n",
    "#     most2020 = f.readlines()\n",
    "# for w in most2020:\n",
    "#     combined_lines.add(w)\n",
    "    \n",
    "# with open(most_used_2023, 'r') as f:\n",
    "#     most20223 = f.readlines()\n",
    "# for w in most20223:\n",
    "#     combined_lines.add(w)\n",
    "    \n",
    "# with open(best110, 'r') as f:\n",
    "#     best = f.readlines()\n",
    "# for w in best:\n",
    "#     combined_lines.add(w)\n",
    "    \n",
    "# for w in hardcoded_bad_passwords:\n",
    "#     combined_lines.add(w)\n",
    "    \n",
    "# # Write the combined, unique lines to a new file\n",
    "# with open(output_file, 'w') as f:\n",
    "#     f.writelines(combined_lines)\n",
    "\n",
    "# print(f\"Combined file created at {output_file} without duplicates.\")\n"
   ]
  },
  {
   "cell_type": "code",
   "execution_count": 6,
   "id": "f1a24d38",
   "metadata": {},
   "outputs": [],
   "source": [
    "# # Define the file paths\n",
    "\n",
    "# directory_path = \"password_text_files/\"\n",
    "# male_names_file = directory_path + \"top_male_names_usa.txt\"\n",
    "# female_names_file = directory_path + \"top_female_names_usa.txt\"\n",
    "\n",
    "# family_names_file = directory_path + \"top_family_names_usa.txt\"\n",
    "\n",
    "# combined_names_file = \"password_text_files/combined_names.txt\"\n",
    "\n",
    "# total_with_dupicates = 0\n",
    "# combined_names = set()\n",
    "# # Read lines from both files and combine them\n",
    "# with open(male_names_file, 'r') as f:\n",
    "#     male_names = f.readlines()\n",
    "# for w in male_names:\n",
    "#     combined_names.add(w)    \n",
    "# total_with_dupicates += len(male_names)\n",
    "\n",
    "# with open(female_names_file, 'r') as f:\n",
    "#     female_names = f.readlines()\n",
    "# for w in female_names:\n",
    "#     combined_names.add(w)\n",
    "# total_with_dupicates += len(female_names)\n",
    "\n",
    "\n",
    "# with open(family_names_file, 'r') as f:\n",
    "#     family_names = f.readlines()\n",
    "# for w in family_names:\n",
    "#     combined_names.add(w)\n",
    "# total_with_dupicates += len(family_names)\n",
    "    \n",
    "# print(f\"total_with_dupicates = {total_with_dupicates}\")\n",
    "\n",
    "# print(f\"total_without_dupicates = {len(combined_names)}\")\n",
    "# # Write the combined, unique lines to a new file\n",
    "# with open(combined_names_file, 'w') as f:\n",
    "#     f.writelines(combined_names)\n",
    "\n",
    "# print(f\"Combined file created at {combined_names_file} without duplicates.\")\n"
   ]
  },
  {
   "cell_type": "code",
   "execution_count": 7,
   "id": "6ea2112d",
   "metadata": {},
   "outputs": [
    {
     "name": "stdout",
     "output_type": "stream",
     "text": [
      "99\n",
      "3000\n"
     ]
    }
   ],
   "source": [
    "\n",
    "directory_path = \"password_strength_text_files/\"\n",
    "english_file = directory_path + \"english_3000_words.txt\"\n",
    "with open(english_file, 'r') as f:\n",
    "    english_words = f.readlines()\n",
    "print(len(hardcoded_common_words))\n",
    "print(len(english_words))\n",
    "for w in english_words:\n",
    "    hardcoded_common_words.append(w)\n"
   ]
  },
  {
   "cell_type": "code",
   "execution_count": 8,
   "id": "4c5e903b",
   "metadata": {},
   "outputs": [
    {
     "name": "stdout",
     "output_type": "stream",
     "text": [
      "3099\n",
      "2705\n",
      "5804\n",
      "5641\n"
     ]
    }
   ],
   "source": [
    "\n",
    "combined_names_file = directory_path + \"combined_names.txt\"\n",
    "with open(combined_names_file, 'r') as f:\n",
    "    combined_names = f.readlines()\n",
    "print(len(hardcoded_common_words))\n",
    "print(len(combined_names))\n",
    "for w in combined_names:\n",
    "    hardcoded_common_words.append(w)\n",
    "\n",
    "print(len(hardcoded_common_words))\n",
    "new_hard_coded = set()\n",
    "for w in hardcoded_common_words:\n",
    "    if len(w.replace(\"\\n\", \"\")) > 2:\n",
    "        new_hard_coded.add(w.replace(\"\\n\", \"\").lower())\n",
    "    \n",
    "hardcoded_common_words = list(new_hard_coded)\n",
    "hardcoded_common_words = sorted(hardcoded_common_words, key=len, reverse=True)\n",
    "print(len(hardcoded_common_words))"
   ]
  },
  {
   "cell_type": "code",
   "execution_count": 9,
   "id": "c7a709ab",
   "metadata": {},
   "outputs": [
    {
     "name": "stdout",
     "output_type": "stream",
     "text": [
      "897\n",
      "727\n"
     ]
    }
   ],
   "source": [
    "hardcoded_bad_numbers\n",
    "print(len(hardcoded_bad_numbers))\n",
    "new_hard_coded_nums = set()\n",
    "for w in hardcoded_bad_numbers:\n",
    "    if len(w.replace(\"\\n\", \"\")) > 1:\n",
    "        new_hard_coded_nums.add(w.replace(\"\\n\", \"\").lower())\n",
    "    \n",
    "hardcoded_bad_numbers = list(new_hard_coded_nums)\n",
    "hardcoded_bad_numbers = sorted(hardcoded_bad_numbers, key=len, reverse=True)\n",
    "print(len(hardcoded_bad_numbers))"
   ]
  },
  {
   "cell_type": "code",
   "execution_count": 10,
   "id": "a98cddd2",
   "metadata": {},
   "outputs": [],
   "source": [
    "\n",
    "def give_character_type_score(password):\n",
    "    upper_case = any([1 if c in string.ascii_uppercase else 0 for c in password])\n",
    "    lower_case = any([1 if c in string.ascii_lowercase else 0 for c in password])\n",
    "    special = any([1 if c in string.punctuation else 0 for c in password])\n",
    "    digits = any([1 if c in string.digits else 0 for c in password])\n",
    "    character_types = [upper_case, lower_case, special, digits]\n",
    "    return sum(character_types) - 1\n",
    "\n",
    "def give_different_character_score(password):\n",
    "    character_set = set()\n",
    "    for c in password:\n",
    "        character_set.add(c)\n",
    "        \n",
    "    return len(character_set)"
   ]
  },
  {
   "cell_type": "code",
   "execution_count": 11,
   "id": "d5a490ef",
   "metadata": {},
   "outputs": [],
   "source": [
    "def give_length_score(password):\n",
    "    length = len(password)\n",
    "    length_score = 0\n",
    "    if length > 8:\n",
    "        length_score += 1\n",
    "    if length > 12:\n",
    "        length_score += 1\n",
    "    if length > 17:\n",
    "        length_score += 1\n",
    "    if length > 20:\n",
    "        length_score += 1\n",
    "    return length_score"
   ]
  },
  {
   "cell_type": "code",
   "execution_count": null,
   "id": "a1f9945c",
   "metadata": {},
   "outputs": [],
   "source": []
  },
  {
   "cell_type": "code",
   "execution_count": 12,
   "id": "fc20071b",
   "metadata": {},
   "outputs": [],
   "source": [
    "def contains_date(date_str):\n",
    "    # Regular expression to match '02-04', '15/06', '21.7', and '0907'\n",
    "    pattern = r'\\b\\d{1,2}([-/.]?)\\d{1,2}\\b'\n",
    "    \n",
    "    # Search the string for a date pattern\n",
    "    return bool(re.search(pattern, date_str))\n",
    "\n",
    "def longest_digit_substring(s):\n",
    "    # Find all consecutive digit sequences\n",
    "    digit_sequences = re.findall(r'\\d+', s)\n",
    "    \n",
    "    # Return the longest one, or an empty string if none are found\n",
    "    if digit_sequences:\n",
    "        return len(max(digit_sequences, key=len))\n",
    "    return 0\n",
    "\n",
    "def longest_single_char_substring(s):\n",
    "    max_length = 0\n",
    "    max_char = ''\n",
    "    \n",
    "    current_char = ''\n",
    "    current_length = 0\n",
    "    \n",
    "    for char in s:\n",
    "        if char == current_char:\n",
    "            current_length += 1\n",
    "        else:\n",
    "            if current_length > max_length:\n",
    "                max_length = current_length\n",
    "                max_char = current_char\n",
    "            \n",
    "            current_char = char\n",
    "            current_length = 1\n",
    "    \n",
    "    # Final check at the end of the string\n",
    "    if current_length > max_length:\n",
    "        max_length = current_length\n",
    "        max_char = current_char\n",
    "    \n",
    "    return max_length - 1"
   ]
  },
  {
   "cell_type": "code",
   "execution_count": 13,
   "id": "e8fb46da",
   "metadata": {},
   "outputs": [],
   "source": [
    "\n",
    "\n",
    "# directory_path = \"password_strength_text_files/\"\n",
    "# with open(directory_path + \"rockyou2009_sample_10K.txt\", 'r') as f:\n",
    "#     rockyou2009_10k = f.readlines()\n",
    "    \n",
    "# legit_passwords = set()\n",
    "# for p in rockyou2009_10k:\n",
    "#     p = p.replace(\"\\n\", \"\")\n",
    "#     if len(p) > 35 :\n",
    "#         continue\n",
    "#     if len(p) == sum(1 for char in p if char.isdigit()) and len(p) < 12:\n",
    "#         continue\n",
    "#     legit_passwords.add(p)\n",
    "        \n",
    "# rockyou2009_10k = list(legit_passwords)"
   ]
  },
  {
   "cell_type": "code",
   "execution_count": 14,
   "id": "94c28ae6",
   "metadata": {},
   "outputs": [],
   "source": [
    "def remove_pattern(password):\n",
    "    password = password.lower()\n",
    "    if len(password) > 5 and password[-4:] == '.com':\n",
    "        password = password[:-4]\n",
    "        ind = password.find('@')\n",
    "        if ind > -1:\n",
    "            password = password[:ind]\n",
    "    for word in hardcoded_common_words:\n",
    "        password = password.replace(word, \"x\")\n",
    "    for number in hardcoded_bad_numbers:\n",
    "        password = password.replace(number, \"8\")\n",
    "    \n",
    "    return password\n"
   ]
  },
  {
   "cell_type": "code",
   "execution_count": 15,
   "id": "467262b9",
   "metadata": {},
   "outputs": [],
   "source": [
    "date_pattern = r'^\\b(?:(\\d{1,2})([-/.]?)(\\d{1,2})(\\2(?:\\d{2}|\\d{4}))?)\\b$'\n",
    "email_pattern = r'\\b[A-Za-z0-9._%+-]+@[A-Za-z0-9.-]+\\.[A-Za-z]{2,}\\b'\n",
    "\n",
    "def automatic_deny(password):\n",
    "    if ((password in automatic_bad_password) or (password in hardcoded_bad_numbers) or \n",
    "    (password in hardcoded_common_words)):\n",
    "        return True\n",
    "    if len(password) < 9 and len(password) == sum(1 for char in password if char.isdigit()):\n",
    "        return True\n",
    "    if len(password) == longest_single_char_substring(password):\n",
    "        return True\n",
    "    if re.search(date_pattern, password):\n",
    "        return True\n",
    "    return False\n",
    "\n",
    "def calc_modified_password_score(p):\n",
    "    password_score = give_different_character_score(p)\n",
    "    password_score += len(p) * 2\n",
    "    password_score -= (longest_digit_substring(p) * 0.5)\n",
    "    password_score -= (longest_single_char_substring(p)*0.9)\n",
    "    if contains_date(p):\n",
    "        password_score -= 6\n",
    "    return min(password_score, 35)\n",
    "    \n",
    "    \n",
    "    \n",
    "def calculate_password_strength(password):\n",
    "    if automatic_deny(password):\n",
    "        return 0, password\n",
    "    if re.fullmatch(email_pattern, password):\n",
    "        return 0, password\n",
    "    password_score = 2*give_character_type_score(password)\n",
    "#     print(password_score)\n",
    "    password_score += calc_modified_password_score(password) * 0.4\n",
    "#     print(password_score)\n",
    "    p = remove_pattern(password)\n",
    "    password_score += calc_modified_password_score(p)\n",
    "#     print(password_score)\n",
    "    password_score += calc_modified_password_score(re.sub(r'[^a-zA-Z0-9]', '', password))  * 0.1\n",
    "#     print(password_score)\n",
    "    \n",
    "    return min(max(0, (password_score * 0.183)-1.8) , 10), p\n",
    "#     return password_score, p\n",
    "    \n",
    "    "
   ]
  },
  {
   "cell_type": "code",
   "execution_count": 16,
   "id": "be04f916",
   "metadata": {},
   "outputs": [],
   "source": [
    "# word_list = set()\n",
    "# number_list = set()\n",
    "# password_list = set()\n",
    "# for s in hardcoded_common_words:\n",
    "#     word_list.add(s + \"\\n\")\n",
    "    \n",
    "# for s in hardcoded_bad_numbers:\n",
    "#     number_list.add(s + \"\\n\")\n",
    "    \n",
    "# for s in automatic_bad_password:\n",
    "#     password_list.add(s + \"\\n\")"
   ]
  },
  {
   "cell_type": "code",
   "execution_count": 17,
   "id": "db4aaa27",
   "metadata": {},
   "outputs": [],
   "source": [
    "\n",
    "# sorted_words = sorted(list(word_list), key=len, reverse=True)\n",
    "\n",
    "# sorted_nums = sorted(list(number_list), key=len, reverse=True)\n",
    "\n",
    "# sorted_passwords = sorted(list(password_list), key=len, reverse=True)\n",
    "\n"
   ]
  },
  {
   "cell_type": "code",
   "execution_count": 18,
   "id": "a5a4907e",
   "metadata": {},
   "outputs": [],
   "source": [
    "# with open(directory_path + \"word_list.txt\", 'w') as f:\n",
    "#     f.writelines(sorted_words)\n",
    "    \n",
    "# with open(directory_path + \"number_list.txt\", 'w') as f:\n",
    "#     f.writelines(sorted_nums)\n",
    "    \n",
    "# with open(directory_path + \"password_list.txt\", 'w') as f:\n",
    "#     f.writelines(sorted_passwords)"
   ]
  },
  {
   "cell_type": "code",
   "execution_count": 19,
   "id": "f1cc3274",
   "metadata": {},
   "outputs": [],
   "source": [
    "\n",
    "password_scores = list()\n",
    "ok_passwords = list()\n",
    "fixed_passwords = list()\n",
    "pass_len = list()\n",
    "char_type_counter = np.zeros(10)\n",
    "diff_char_counter = np.zeros(40)\n",
    "length_counter = np.zeros(40)\n",
    "for p1 in rockyou2009_10k:\n",
    "    if len(p1) > 32: \n",
    "        continue\n",
    "#     p1 = w.replace(\"\\n\", \"\")\n",
    "    password_score, p = calculate_password_strength(p1)\n",
    "#     if password_score > 20:  \n",
    "    password_scores.append(password_score)\n",
    "    ok_passwords.append(p1)\n",
    "    fixed_passwords.append(p)\n",
    "    pass_len.append(len(p1))\n",
    "#     print(f\"{password_score}\\t:\\t{p1} \\t {p}\")\n",
    "#     print(f\"scores for {p}\")\n",
    "#     print(f\"\\tcharacter type score = {give_character_type_score(p)}\")\n",
    "#     print(f\"\\tdifferent character score = {give_different_character_score(p)}\")\n",
    "#     print(f\"\\tlength score = {give_length_score(p)}\")"
   ]
  },
  {
   "cell_type": "code",
   "execution_count": null,
   "id": "7ce43dca",
   "metadata": {},
   "outputs": [],
   "source": []
  },
  {
   "cell_type": "code",
   "execution_count": 20,
   "id": "dc4ee9e8",
   "metadata": {},
   "outputs": [],
   "source": [
    "# print(len(ok_passwords))\n",
    "# # password_scores_array = np.array(password_scores)\n",
    "# # ok_passwords = password_scores_array[password_scores_array > 3]\n",
    "# # passwords = rockyou2009_10k[password_scores_array > 3]\n",
    "\n",
    "# # Create DataFrame\n",
    "# df = pd.DataFrame()\n",
    "# df['passwords'] = ok_passwords\n",
    "# df['scores'] = password_scores\n",
    "# df['fixed'] = fixed_passwords\n",
    "# df['length'] = pass_len\n",
    "# fig = px.scatter(df, x='length', y='scores', hover_data=['passwords', 'fixed'])\n",
    "\n",
    "# fig.update_layout(\n",
    "#     title=\"password strength\",\n",
    "#     xaxis_title=\"#\",\n",
    "#     yaxis_title=\"Strength\",\n",
    "#     autosize=False,\n",
    "#     width=900,\n",
    "#     height=800,\n",
    "#     margin=dict(l=30,r=30,b=30,\n",
    "#                 t=30,pad=3\n",
    "#                 ),\n",
    "#     paper_bgcolor=\"LightSteelBlue\",\n",
    "# )\n",
    "\n",
    "# fig.show()\n"
   ]
  },
  {
   "cell_type": "code",
   "execution_count": 21,
   "id": "1d260b54",
   "metadata": {},
   "outputs": [],
   "source": [
    "# print(min(password_scores))\n",
    "# print(max(password_scores))\n",
    "# print(sum(password_scores) / len(password_scores))"
   ]
  },
  {
   "cell_type": "code",
   "execution_count": 22,
   "id": "6383ec55",
   "metadata": {
    "scrolled": false
   },
   "outputs": [],
   "source": [
    "# sorted_passwords = sorted(rockyou2009_10k, key=calculate_password_strength, reverse=True)\n",
    "# # print(sorted_passwords[:100])\n",
    "# for i in range(100):\n",
    "#     score , p = calculate_password_strength(sorted_passwords[i])\n",
    "#     print(f\"{score:.2f} : {sorted_passwords[i]}\")"
   ]
  },
  {
   "cell_type": "code",
   "execution_count": 23,
   "id": "ac2ce076",
   "metadata": {
    "scrolled": false
   },
   "outputs": [],
   "source": [
    "# for i in range(1, 101):\n",
    "#     score , p = calculate_password_strength(sorted_passwords[-i])\n",
    "#     print(f\"{score:.2f} : {sorted_passwords[-i]}\")"
   ]
  },
  {
   "cell_type": "code",
   "execution_count": 24,
   "id": "5f8d13ae",
   "metadata": {},
   "outputs": [],
   "source": [
    "# print(calculate_password_strength('1721061008')) "
   ]
  },
  {
   "cell_type": "code",
   "execution_count": 25,
   "id": "37be35fb",
   "metadata": {},
   "outputs": [],
   "source": [
    "# bins = np.zeros(10)\n",
    "# for p in sorted_passwords:\n",
    "#     score, p1 = calculate_password_strength(p)\n",
    "#     bins[round(score)] += 1"
   ]
  },
  {
   "cell_type": "code",
   "execution_count": null,
   "id": "f039d425",
   "metadata": {},
   "outputs": [],
   "source": []
  },
  {
   "cell_type": "code",
   "execution_count": 26,
   "id": "e69f97cc",
   "metadata": {},
   "outputs": [],
   "source": [
    "\n",
    "# fig = plt.figure(figsize = (15, 10))\n",
    "\n",
    "# # creating the bar plot\n",
    "# plt.bar(range(10), bins, color ='maroon')\n",
    "\n",
    "# plt.xlabel(\"score\")\n",
    "# plt.ylabel(\"#\")\n",
    "# plt.title(\"password scores (rounded) histogram\")\n",
    "# plt.show()"
   ]
  },
  {
   "cell_type": "code",
   "execution_count": 27,
   "id": "694e4d86",
   "metadata": {},
   "outputs": [],
   "source": [
    "# print( calculate_password_strength(\"meljunloveshaira143loveisblind\"))"
   ]
  },
  {
   "cell_type": "code",
   "execution_count": null,
   "id": "cac04f87",
   "metadata": {},
   "outputs": [],
   "source": []
  }
 ],
 "metadata": {
  "kernelspec": {
   "display_name": "Python 3 (ipykernel)",
   "language": "python",
   "name": "python3"
  },
  "language_info": {
   "codemirror_mode": {
    "name": "ipython",
    "version": 3
   },
   "file_extension": ".py",
   "mimetype": "text/x-python",
   "name": "python",
   "nbconvert_exporter": "python",
   "pygments_lexer": "ipython3",
   "version": "3.10.12"
  }
 },
 "nbformat": 4,
 "nbformat_minor": 5
}
